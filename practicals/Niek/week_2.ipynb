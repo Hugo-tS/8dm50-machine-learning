{
 "cells": [
  {
   "cell_type": "markdown",
   "metadata": {},
   "source": [
    "# Under- and overfitting, model selection\n",
    "\n",
    "## Preliminaries\n",
    "\n",
    "In the first set of exercises you had to implement the training and evaluation of the linear regression and $k$-NN methods from scratch in order to practice your `numpy` skills. From this set of exercises onward, you can use the implementations provided in `scikit-learn` or other higher-level libraries. We start this set of exercises by demonstrating some of the features of `scikit-learn`.\n",
    "\n",
    "For example, implementation of linear regression model fitting with an analytical solution for the parameters is provided by the class `sklearn.linar_model.LinearRegression`. You can train a linear regression model in the following way:"
   ]
  },
  {
   "cell_type": "code",
   "execution_count": 1,
   "metadata": {},
   "outputs": [
    {
     "data": {
      "text/plain": [
       "LinearRegression()"
      ]
     },
     "execution_count": 1,
     "metadata": {},
     "output_type": "execute_result"
    }
   ],
   "source": [
    "import numpy as np\n",
    "from sklearn import datasets, linear_model\n",
    "\n",
    "# load the diabetes dataset\n",
    "diabetes = datasets.load_diabetes()\n",
    "\n",
    "# use only one feature\n",
    "X = diabetes.data[:, np.newaxis, 2]\n",
    "y = diabetes.target\n",
    "\n",
    "# split the data into training/testing sets\n",
    "X_train = X[:-20]\n",
    "X_test = X[-20:]\n",
    "\n",
    "# split the targets into training/testing sets\n",
    "y_train = y[:-20]\n",
    "y_test = y[-20:]\n",
    "\n",
    "# create linear regression object\n",
    "model = linear_model.LinearRegression()\n",
    "\n",
    "# train the model using the training dataset\n",
    "model.fit(X_train, y_train)"
   ]
  },
  {
   "cell_type": "markdown",
   "metadata": {},
   "source": [
    "Let's visualize the training dataset and the learned regression model."
   ]
  },
  {
   "cell_type": "code",
   "execution_count": 2,
   "metadata": {},
   "outputs": [
    {
     "data": {
      "image/png": "[encoded data removed]",
      "text/plain": [
       "<Figure size 432x288 with 1 Axes>"
      ]
     },
     "metadata": {
      "needs_background": "light"
     },
     "output_type": "display_data"
    }
   ],
   "source": [
    "%matplotlib inline\n",
    "import matplotlib.pyplot as plt\n",
    "\n",
    "fig = plt.figure()\n",
    "plt.plot(X_train, y_train, 'r.', markersize=12)\n",
    "X_edge = np.array([np.min(X_train, 0), np.max(X_train, 0)])\n",
    "plt.plot(X_edge, model.predict(X_edge), 'b-')\n",
    "plt.legend(('Data', 'Linear regression'), loc='lower right')\n",
    "plt.title('Linear regression')\n",
    "plt.xlabel('$x$')\n",
    "plt.ylabel('$y$')\n",
    "plt.show()"
   ]
  },
  {
   "cell_type": "markdown",
   "metadata": {},
   "source": [
    "Once trained, the model can be used to make predictions on the test data:"
   ]
  },
  {
   "cell_type": "code",
   "execution_count": 3,
   "metadata": {},
   "outputs": [],
   "source": [
    "# Make predictions using the testing dataset\n",
    "prediction = model.predict(X_test)"
   ]
  },
  {
   "cell_type": "markdown",
   "metadata": {},
   "source": [
    "The next step (not shown here) is to evaluate the performance of the trained model.\n",
    "\n",
    "Note that the `scikit-learn` interface works by first initializing an object from the class that implements the machine learning model (linear regression in this case) and then fitting the initialized model using the data in the training set. Finally, the trained (fitted) model can be used to make predictions on unseen data. In fact, all models implemented in this library follow the same *initialize-fit-predict* programming interface. For example, a $k$-NN classifier can be trained in the following way:"
   ]
  },
  {
   "cell_type": "code",
   "execution_count": 4,
   "metadata": {},
   "outputs": [],
   "source": [
    "from sklearn.model_selection import train_test_split\n",
    "from sklearn import datasets, neighbors\n",
    "\n",
    "breast_cancer = datasets.load_breast_cancer()\n",
    "\n",
    "X = breast_cancer.data\n",
    "y = breast_cancer.target\n",
    "\n",
    "# make use of the train_test_split() utility function instead\n",
    "# of manually dividing the data\n",
    "X_train, X_test, y_train, y_test = train_test_split(X, y, stratify=y, random_state=40)\n",
    "\n",
    "# initialize a 3-NN classifier\n",
    "model = neighbors.KNeighborsClassifier(n_neighbors=3)\n",
    "\n",
    "# train the model using the training dataset\n",
    "model.fit(X_train, y_train)\n",
    "\n",
    "# make predictions using the testing dataset\n",
    "prediction = model.predict(X_test)"
   ]
  },
  {
   "cell_type": "markdown",
   "metadata": {},
   "source": [
    "Note that the features in the breast cancer dataset have different scales (some have on average very small absolute values, and some very large), which means that the distance metric used by $k$-NN will me dominated by the features with large values. You can use any of the number of feature transformation methods implemented in `scikit-learn` to scale the features. For example, you can use the `sklearn.preprocessing.StandardScaler` method to transform all features to a have a zero mean and unit variance:"
   ]
  },
  {
   "cell_type": "code",
   "execution_count": 5,
   "metadata": {},
   "outputs": [],
   "source": [
    "from sklearn.preprocessing import StandardScaler\n",
    "\n",
    "scaler = StandardScaler()\n",
    "scaler.fit(X_train)\n",
    "\n",
    "X_train_scaled = scaler.transform(X_train)"
   ]
  },
  {
   "cell_type": "markdown",
   "metadata": {},
   "source": [
    "The scaler has its own parameters which are the means and standard deviations of the features estimated from the training set. If you train a model with the scaled features, you will have to remember to also apply the scaling transformation every time you make a prediction on new unseen and unscaled data. This is somewhat prone to error. One option for making the code more robust is to create a processing pipeline that includes the scaling and $k$-NN models in a sequence:"
   ]
  },
  {
   "cell_type": "code",
   "execution_count": 6,
   "metadata": {},
   "outputs": [],
   "source": [
    "from sklearn.pipeline import Pipeline\n",
    "\n",
    "knn = neighbors.KNeighborsClassifier(n_neighbors=3)\n",
    "\n",
    "model = Pipeline([\n",
    "                 (\"scaler\", scaler),\n",
    "                 (\"knn\", knn)\n",
    "                ])\n",
    "\n",
    "# train the model using the training dataset\n",
    "model.fit(X_train, y_train)\n",
    "\n",
    "# make predictions using the testing dataset\n",
    "prediction = model.predict(X_test)\n"
   ]
  },
  {
   "cell_type": "markdown",
   "metadata": {},
   "source": [
    "If you are curious, more information about the design of the `scikit-learn` application programming interface (API) can be found [in this paper](https://arxiv.org/pdf/1309.0238.pdf). "
   ]
  },
  {
   "cell_type": "markdown",
   "metadata": {},
   "source": [
    "## Exercises\n",
    "\n",
    "### Bias-variance decomposition\n",
    "\n",
    "Show that the mean squared error of the estimate of a parameter can be decomposed into an expression that includes both the bias and variance (Eq. 5.53-5.54 in \"Deep learning\" by Goodfellow et al.). "
   ]
  },
  {
   "cell_type": "markdown",
   "metadata": {},
   "source": [
    "### Polynomial regression\n",
    "\n",
    "For this exercise we will be using generated data to better show the effects of the different polynomial orders.\n",
    "The data is created using the make_polynomial_regression function."
   ]
  },
  {
   "cell_type": "code",
   "execution_count": 7,
   "metadata": {},
   "outputs": [
    {
     "data": {
      "text/plain": [
       "[<matplotlib.lines.Line2D at 0x25b0b7c32e8>]"
      ]
     },
     "execution_count": 7,
     "metadata": {},
     "output_type": "execute_result"
    },
    {
     "data": {
      "image/png": "[encoded data removed]",
      "text/plain": [
       "<Figure size 432x288 with 1 Axes>"
      ]
     },
     "metadata": {
      "needs_background": "light"
     },
     "output_type": "display_data"
    }
   ],
   "source": [
    "%matplotlib inline\n",
    "\n",
    "def generate_dataset(n=100, degree=1, noise=1, factors=None):\n",
    "    # Generates a dataset by adding random noise to a randomly\n",
    "    # generated polynomial function.\n",
    "    \n",
    "    x = np.random.uniform(low=-1, high=1, size=n)\n",
    "    \n",
    "    factors = np.random.uniform(0, 10, degree+1)\n",
    "    \n",
    "    y = np.zeros(x.shape)\n",
    "    \n",
    "    for idx in range(degree+1):\n",
    "        y += factors[idx] * (x ** idx)\n",
    "\n",
    "    # add noise\n",
    "    y += np.random.normal(-noise, noise, n)\n",
    "    \n",
    "    return x, y\n",
    "\n",
    "# load generated data\n",
    "np.random.seed(0)\n",
    "\n",
    "X, y = generate_dataset(n=100, degree=4, noise=1.5)\n",
    "\n",
    "plt.plot(X, y, 'r.', markersize=12)"
   ]
  },
  {
   "cell_type": "markdown",
   "metadata": {},
   "source": [
    "Implement polynomial regression using the `sklearn.preprocessing.PolynomialFeatures` transformation. Using the `sklearn.grid_search.GridSearchCV` class, perform a grid search of the polynomial order hyperparameter space with cross-validation and report the performance on an independent test set.\n",
    "\n",
    "Plot a learning curve that show the validation accuracy as a function of the polynomial order. \n",
    "\n",
    "<p><font color='#770a0a'>Which models have a high bias, and which models have high variance? Motivate your answer.</font><p>\n",
    "    \n",
    "Repeat this experiment, this time using the diabetes dataset instead of the generated data."
   ]
  },
  {
   "cell_type": "markdown",
   "metadata": {},
   "source": [
    "***ANSWER***: As seen in the graph, the model with degree 1 has a poor performance. The model is too simple and thus as a high bias. The models of degree 4 and 5 decrease in performance after degree 3, which indicates that these models have a high variance, or overfitting."
   ]
  },
  {
   "cell_type": "code",
   "execution_count": 16,
   "metadata": {
    "scrolled": true
   },
   "outputs": [
    {
     "name": "stdout",
     "output_type": "stream",
     "text": [
      "Best polynomial degree: 3\n",
      "Best CV score (MSE): 2.3841534415732113\n",
      "Test MSE: 3.2139667147015984\n"
     ]
    },
    {
     "data": {
      "image/png": "[encoded data removed]",
      "text/plain": [
       "<Figure size 432x288 with 1 Axes>"
      ]
     },
     "metadata": {
      "needs_background": "light"
     },
     "output_type": "display_data"
    }
   ],
   "source": [
    "from sklearn.pipeline import Pipeline\n",
    "from sklearn.model_selection import GridSearchCV, train_test_split, cross_val_score\n",
    "from sklearn.metrics import mean_squared_error\n",
    "from sklearn.preprocessing import PolynomialFeatures\n",
    "from sklearn.linear_model import LinearRegression\n",
    "\n",
    "# Split into train/test\n",
    "X_train, X_test, y_train, y_test = train_test_split(\n",
    "    X.reshape(-1,1), y, test_size=0.2, random_state=42\n",
    ")\n",
    "\n",
    "# Make pipeline: polynomial expansion + linear regression\n",
    "pipe = Pipeline([\n",
    "    (\"poly\", PolynomialFeatures()), \n",
    "    (\"linreg\", LinearRegression())\n",
    "])\n",
    "\n",
    "# Define hyperparameter grid (polynomial degree to try)\n",
    "param_grid = {\n",
    "    \"poly__degree\": [1, 2, 3, 4, 5]\n",
    "}\n",
    "\n",
    "# Set up grid search with cross-validation\n",
    "grid = GridSearchCV(pipe, param_grid, cv=5, scoring=\"neg_mean_squared_error\")\n",
    "grid.fit(X_train, y_train)\n",
    "\n",
    "# Report best degree and CV performance\n",
    "best_poly_deg = grid.best_params_[\"poly__degree\"]\n",
    "print(\"Best polynomial degree:\", best_poly_deg)\n",
    "print(\"Best CV score (MSE):\", -grid.best_score_)\n",
    "\n",
    "# Evaluate on independent test set\n",
    "y_pred = grid.best_estimator_.predict(X_test)\n",
    "print(\"Test MSE:\", mean_squared_error(y_test, y_pred))\n",
    "\n",
    "# Fit the polynomial with best fitting degree\n",
    "poly = PolynomialFeatures(degree=best_poly_deg)\n",
    "X_poly = poly.fit_transform(X.reshape(-1,1))\n",
    "model = LinearRegression()\n",
    "model.fit(X_poly, y);\n",
    "\n",
    "# make a smooth graph\n",
    "X_plot = np.linspace(X.min(), X.max(), 200).reshape(-1, 1)\n",
    "X_plot_poly = poly.transform(X_plot)\n",
    "y_plot = model.predict(X_plot_poly)\n",
    "\n",
    "# plot the data and polynomial\n",
    "plt.scatter(X, y, color=\"red\", label=\"Data\")\n",
    "plt.plot(X_plot, y_plot, color=\"blue\", linewidth=2, label=\"Polynomial fit\")\n",
    "plt.xlabel(\"X\")\n",
    "plt.ylabel(\"y\")\n",
    "plt.legend()\n",
    "plt.show()"
   ]
  },
  {
   "cell_type": "code",
   "execution_count": 19,
   "metadata": {
    "scrolled": true
   },
   "outputs": [
    {
     "data": {
      "image/png": "[encoded data removed]",
      "text/plain": [
       "<Figure size 432x288 with 1 Axes>"
      ]
     },
     "metadata": {
      "needs_background": "light"
     },
     "output_type": "display_data"
    }
   ],
   "source": [
    "from sklearn.model_selection import cross_val_score\n",
    "\n",
    "degrees = [1, 2, 3, 4, 5]\n",
    "val_scores = []\n",
    "\n",
    "for d in degrees:\n",
    "    pipe = Pipeline([\n",
    "        (\"poly\", PolynomialFeatures(degree=d)),\n",
    "        (\"linreg\", LinearRegression())\n",
    "    ])\n",
    "    \n",
    "    scores = cross_val_score(pipe, X_train, y_train, cv=5, scoring=\"neg_mean_squared_error\")\n",
    "    val_scores.append(scores.mean())\n",
    "    \n",
    "# Plot learning curve\n",
    "plt.plot(degrees, val_scores, marker=\"o\")\n",
    "plt.xlabel(\"Polynomial Degree\")\n",
    "plt.ylabel(\"Validation MSE\")\n",
    "plt.title(\"Validation performance vs. Polynomial Degree\")\n",
    "plt.grid(True)\n",
    "plt.show()"
   ]
  },
  {
   "cell_type": "code",
   "execution_count": 20,
   "metadata": {
    "scrolled": true
   },
   "outputs": [
    {
     "name": "stdout",
     "output_type": "stream",
     "text": [
      "Best polynomial degree: 1\n",
      "Best CV score (MSE): 3928.3033932650133\n",
      "Test MSE: 4061.825928494928\n"
     ]
    },
    {
     "data": {
      "image/png": "[encoded data removed]",
      "text/plain": [
       "<Figure size 432x288 with 1 Axes>"
      ]
     },
     "metadata": {
      "needs_background": "light"
     },
     "output_type": "display_data"
    }
   ],
   "source": [
    "# Dataset\n",
    "diabetes = datasets.load_diabetes()\n",
    "\n",
    "# use only one feature\n",
    "X = diabetes.data[:, np.newaxis, 2]\n",
    "y = diabetes.target\n",
    "\n",
    "# Split into train/test\n",
    "X_train, X_test, y_train, y_test = train_test_split(\n",
    "    X.reshape(-1,1), y, test_size=0.2, random_state=42\n",
    ")\n",
    "\n",
    "# Make pipeline: polynomial expansion + linear regression\n",
    "pipe = Pipeline([\n",
    "    (\"poly\", PolynomialFeatures()), \n",
    "    (\"linreg\", LinearRegression())\n",
    "])\n",
    "\n",
    "# Define hyperparameter grid (polynomial degree to try)\n",
    "param_grid = {\n",
    "    \"poly__degree\": [1, 2, 3, 4, 5]\n",
    "}\n",
    "\n",
    "# Set up grid search with cross-validation\n",
    "grid = GridSearchCV(pipe, param_grid, cv=5, scoring=\"neg_mean_squared_error\")\n",
    "grid.fit(X_train, y_train)\n",
    "\n",
    "# Report best degree and CV performance\n",
    "best_poly_deg = grid.best_params_[\"poly__degree\"]\n",
    "print(\"Best polynomial degree:\", best_poly_deg)\n",
    "print(\"Best CV score (MSE):\", -grid.best_score_)\n",
    "\n",
    "# Evaluate on independent test set\n",
    "y_pred = grid.best_estimator_.predict(X_test)\n",
    "print(\"Test MSE:\", mean_squared_error(y_test, y_pred))\n",
    "\n",
    "# Fit the polynomial with best fitting degree\n",
    "poly = PolynomialFeatures(degree=best_poly_deg)\n",
    "X_poly = poly.fit_transform(X.reshape(-1,1))\n",
    "model = LinearRegression()\n",
    "model.fit(X_poly, y);\n",
    "\n",
    "# make a smooth graph\n",
    "X_plot = np.linspace(X.min(), X.max(), 200).reshape(-1, 1)\n",
    "X_plot_poly = poly.transform(X_plot)\n",
    "y_plot = model.predict(X_plot_poly)\n",
    "\n",
    "# plot the data and polynomial\n",
    "plt.scatter(X, y, color=\"red\", label=\"Data\")\n",
    "plt.plot(X_plot, y_plot, color=\"blue\", linewidth=2, label=\"Polynomial fit\")\n",
    "plt.xlabel(\"X\")\n",
    "plt.ylabel(\"y\")\n",
    "plt.legend()\n",
    "plt.show()"
   ]
  },
  {
   "cell_type": "code",
   "execution_count": 21,
   "metadata": {},
   "outputs": [
    {
     "data": {
      "image/png": "[encoded data removed]",
      "text/plain": [
       "<Figure size 432x288 with 1 Axes>"
      ]
     },
     "metadata": {
      "needs_background": "light"
     },
     "output_type": "display_data"
    }
   ],
   "source": [
    "from sklearn.model_selection import cross_val_score\n",
    "\n",
    "degrees = [1, 2, 3, 4, 5]\n",
    "val_scores = []\n",
    "\n",
    "for d in degrees:\n",
    "    pipe = Pipeline([\n",
    "        (\"poly\", PolynomialFeatures(degree=d)),\n",
    "        (\"linreg\", LinearRegression())\n",
    "    ])\n",
    "    \n",
    "    scores = cross_val_score(pipe, X_train, y_train, cv=5, scoring=\"neg_mean_squared_error\")\n",
    "    val_scores.append(scores.mean())\n",
    "    \n",
    "# Plot learning curve\n",
    "plt.plot(degrees, val_scores, marker=\"o\")\n",
    "plt.xlabel(\"Polynomial Degree\")\n",
    "plt.ylabel(\"Validation MSE\")\n",
    "plt.title(\"Validation performance vs. Polynomial Degree\")\n",
    "plt.grid(True)\n",
    "plt.show()"
   ]
  },
  {
   "cell_type": "markdown",
   "metadata": {},
   "source": [
    "### ROC curve analysis\n",
    "A common method to evaluate binary classifiers is the receiver operating characteristic (ROC) curve. Similar to the week one practicals, implement a $k$-NN classifier on the breast cancer dataset, however, his time use the $k$-NN pipeline from the preliminary. Train the model for different values of $k$ and evaluate their respective performance with an ROC curve, use the `sklearn.metrics.roc_curve` function."
   ]
  },
  {
   "cell_type": "markdown",
   "metadata": {},
   "source": [
    "### $F_1$ score and Dice similarity coefficient\n",
    "\n",
    "The Dice similarity coefficient is a very popular evaluation measure for image segmentation applications. Assuming that $A$ is the ground truth segmentation of an object represented as a binary image, and $B$ is the binary output of an image segmentation method, the Dice similarity coefficient is computed as:\n",
    "\n",
    "$\\text{Dice}(A,B) = \\frac{2|A\\cap B|}{|A| + |B|}$\n",
    "\n",
    "where $|\\cdot|$ represents the cardinality of the objects (e.g. $|A|$ is the number of non-zero pixels in the ground truth segmentation).\n",
    "\n",
    "For example, the Dice similarity can be computed in the following way:"
   ]
  },
  {
   "cell_type": "code",
   "execution_count": null,
   "metadata": {},
   "outputs": [],
   "source": [
    "# generate some test objecys\n",
    "A = np.zeros((32, 32))\n",
    "A[10:-10, 10:-10] = 1\n",
    "B = np.zeros((32, 32))\n",
    "B[5:-15, 5:-15] = 1\n",
    "\n",
    "dice = 2*np.sum(A*B)/(np.sum(A)+np.sum(B))\n",
    "\n",
    "# display the results\n",
    "plt.plot()\n",
    "plt.imshow(A)\n",
    "plt.imshow(B, alpha=0.7)\n",
    "\n",
    "print(dice)"
   ]
  },
  {
   "cell_type": "markdown",
   "metadata": {},
   "source": [
    "<p><font color='#770a0a'>Show that the $F_1$ score, which is the harmonic mean of precision and recall, is equivalent to the Dice similarity coefficient</font><p>"
   ]
  },
  {
   "cell_type": "markdown",
   "metadata": {},
   "source": [
    "\n",
    "$ \\text{Precision} = \\frac{TP}{TP + FP} $\n",
    "\n",
    "$ \\text{Recall} = \\frac{TP}{TP + FN} $\n",
    "\n",
    "$ F1 = \\frac{2 \\cdot \\text{Precision} \\cdot \\text{Recall}}{\\text{Precision} + \\text{Recall}} $\n",
    "\n",
    "$ \\text{DSC} = \\frac{2 \\cdot TP}{2TP + FP + FN} $\n",
    "\n",
    "\n",
    "Precision and recall in the F1 formula:\n",
    "\n",
    "$$\n",
    "F1 = \\frac{2 \\cdot \\frac{TP}{TP+FP} \\cdot \\frac{TP}{TP+FN}}\n",
    "{\\frac{TP}{TP+FP} + \\frac{TP}{TP+FN}}\n",
    "$$\n",
    "\n",
    "Simplify numerator:\n",
    "\n",
    "$$\n",
    "= \\frac{2 \\cdot TP^2}{(TP+FP)(TP+FN)}\n",
    "$$\n",
    "\n",
    "Simplify denominator (common denominator):\n",
    "\n",
    "$$\n",
    "= \\frac{TP(TP+FN) + TP(TP+FP)}{(TP+FP)(TP+FN)} \n",
    "= \\frac{TP(2TP + FP + FN)}{(TP+FP)(TP+FN)}\n",
    "$$\n",
    "\n",
    "Putting it together:\n",
    "\n",
    "$$\n",
    "F1 = \\frac{2 \\cdot TP^2}{(TP+FP)(TP+FN)} \\cdot \\frac{(TP+FP)(TP+FN)}{TP(2TP+FP+FN)}\n",
    "$$\n",
    "\n",
    "$$\n",
    "F1 = \\frac{2 \\cdot TP}{2 \\cdot TP + FP + FN}\n",
    "$$\n",
    "\n"
   ]
  }
 ],
 "metadata": {
  "kernelspec": {
   "display_name": "Python 3",
   "language": "python",
   "name": "python3"
  },
  "language_info": {
   "codemirror_mode": {
    "name": "ipython",
    "version": 3
   },
   "file_extension": ".py",
   "mimetype": "text/x-python",
   "name": "python",
   "nbconvert_exporter": "python",
   "pygments_lexer": "ipython3",
   "version": "3.6.13"
  }
 },
 "nbformat": 4,
 "nbformat_minor": 2
}
